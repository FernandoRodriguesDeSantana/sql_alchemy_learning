{
  "nbformat": 4,
  "nbformat_minor": 0,
  "metadata": {
    "colab": {
      "provenance": [],
      "authorship_tag": "ABX9TyOdqjcACa8XCYvY7tbMgDG6",
      "include_colab_link": true
    },
    "kernelspec": {
      "name": "python3",
      "display_name": "Python 3"
    },
    "language_info": {
      "name": "python"
    }
  },
  "cells": [
    {
      "cell_type": "markdown",
      "metadata": {
        "id": "view-in-github",
        "colab_type": "text"
      },
      "source": [
        "<a href=\"https://colab.research.google.com/github/FernandoRodriguesDeSantana/sql_alchemy_learning/blob/main/sql_alchemy.ipynb\" target=\"_parent\"><img src=\"https://colab.research.google.com/assets/colab-badge.svg\" alt=\"Open In Colab\"/></a>"
      ]
    },
    {
      "cell_type": "markdown",
      "source": [
        "## **Biblioteca**"
      ],
      "metadata": {
        "id": "63Xk_4L0r043"
      }
    },
    {
      "cell_type": "code",
      "execution_count": 159,
      "metadata": {
        "id": "bK3VfiKil0_z"
      },
      "outputs": [],
      "source": [
        "import sqlalchemy\n",
        "from sqlalchemy.orm import declarative_base\n",
        "from sqlalchemy import Column, Integer, String\n",
        "from sqlalchemy.orm import sessionmaker"
      ]
    },
    {
      "cell_type": "markdown",
      "source": [
        "## **Criando Arquivo DataBase**"
      ],
      "metadata": {
        "id": "6P9zXOIqr4x3"
      }
    },
    {
      "cell_type": "code",
      "source": [
        "engine = sqlalchemy.create_engine('sqlite:///enterprise.db', echo = True)\n",
        "#enterprise.db foi criado neste instante"
      ],
      "metadata": {
        "id": "8ZwzLS4PmLoP"
      },
      "execution_count": 160,
      "outputs": []
    },
    {
      "cell_type": "code",
      "source": [
        "Base = declarative_base()"
      ],
      "metadata": {
        "id": "kj6R_zPqmaCx"
      },
      "execution_count": 161,
      "outputs": []
    },
    {
      "cell_type": "markdown",
      "source": [
        "## **Criando uma tabela**"
      ],
      "metadata": {
        "id": "hkTJRKZusKA_"
      }
    },
    {
      "cell_type": "code",
      "source": [
        "class User(Base):\n",
        "  __tablename__ = 'users'\n",
        "  #__tablename__ é obrigatório\n",
        "  id = Column(Integer, primary_key=True)\n",
        "  #id = Column é obrigatório\n",
        "  name = Column(String(50))\n",
        "  fullname = Column(String(50))\n",
        "  age = Column(Integer)\n",
        "\n",
        "  def __repr__(self):\n",
        "    return \"<User(name={}, fullname={}, age{})>\".format(self.name, self.fullname, self.age)"
      ],
      "metadata": {
        "id": "ENxZGASAmtDf"
      },
      "execution_count": 162,
      "outputs": []
    },
    {
      "cell_type": "code",
      "source": [
        "Base.metadata.create_all(engine)"
      ],
      "metadata": {
        "colab": {
          "base_uri": "https://localhost:8080/"
        },
        "id": "Sx1avbCun0ae",
        "outputId": "dc4dde00-73c1-4c52-83ff-513535a82aa2"
      },
      "execution_count": 163,
      "outputs": [
        {
          "output_type": "stream",
          "name": "stdout",
          "text": [
            "2023-07-25 02:13:19,483 INFO sqlalchemy.engine.Engine BEGIN (implicit)\n"
          ]
        },
        {
          "output_type": "stream",
          "name": "stderr",
          "text": [
            "INFO:sqlalchemy.engine.Engine:BEGIN (implicit)\n"
          ]
        },
        {
          "output_type": "stream",
          "name": "stdout",
          "text": [
            "2023-07-25 02:13:19,488 INFO sqlalchemy.engine.Engine PRAGMA main.table_info(\"users\")\n"
          ]
        },
        {
          "output_type": "stream",
          "name": "stderr",
          "text": [
            "INFO:sqlalchemy.engine.Engine:PRAGMA main.table_info(\"users\")\n"
          ]
        },
        {
          "output_type": "stream",
          "name": "stdout",
          "text": [
            "2023-07-25 02:13:19,492 INFO sqlalchemy.engine.Engine [raw sql] ()\n"
          ]
        },
        {
          "output_type": "stream",
          "name": "stderr",
          "text": [
            "INFO:sqlalchemy.engine.Engine:[raw sql] ()\n"
          ]
        },
        {
          "output_type": "stream",
          "name": "stdout",
          "text": [
            "2023-07-25 02:13:19,496 INFO sqlalchemy.engine.Engine COMMIT\n"
          ]
        },
        {
          "output_type": "stream",
          "name": "stderr",
          "text": [
            "INFO:sqlalchemy.engine.Engine:COMMIT\n"
          ]
        }
      ]
    },
    {
      "cell_type": "markdown",
      "source": [
        "## **Inserção de Dados**"
      ],
      "metadata": {
        "id": "GIOYKbzvsQev"
      }
    },
    {
      "cell_type": "markdown",
      "source": [
        "### **Adicionando User Individual**"
      ],
      "metadata": {
        "id": "NEUBnLWdslTV"
      }
    },
    {
      "cell_type": "code",
      "source": [
        "user = User(name='Fernando', fullname='Fernando Rodrigues de Santana', age=20)"
      ],
      "metadata": {
        "id": "YmWOtOl5oWkN"
      },
      "execution_count": 164,
      "outputs": []
    },
    {
      "cell_type": "code",
      "source": [
        "type(user)"
      ],
      "metadata": {
        "colab": {
          "base_uri": "https://localhost:8080/"
        },
        "id": "-MVnGayvon0d",
        "outputId": "013bafdb-a544-4e4b-d8b2-f60db1295c0f"
      },
      "execution_count": 165,
      "outputs": [
        {
          "output_type": "execute_result",
          "data": {
            "text/plain": [
              "__main__.User"
            ]
          },
          "metadata": {},
          "execution_count": 165
        }
      ]
    },
    {
      "cell_type": "code",
      "source": [
        "user.name"
      ],
      "metadata": {
        "colab": {
          "base_uri": "https://localhost:8080/",
          "height": 35
        },
        "id": "Rt85A9Acoteu",
        "outputId": "208d5a2d-0d83-4e49-96c1-77afd4aad836"
      },
      "execution_count": 166,
      "outputs": [
        {
          "output_type": "execute_result",
          "data": {
            "text/plain": [
              "'Fernando'"
            ],
            "application/vnd.google.colaboratory.intrinsic+json": {
              "type": "string"
            }
          },
          "metadata": {},
          "execution_count": 166
        }
      ]
    },
    {
      "cell_type": "code",
      "source": [
        "user.fullname"
      ],
      "metadata": {
        "colab": {
          "base_uri": "https://localhost:8080/",
          "height": 35
        },
        "id": "4Ejp-iIfouxN",
        "outputId": "101c124e-1c4f-4217-c58e-c13c9637c52e"
      },
      "execution_count": 167,
      "outputs": [
        {
          "output_type": "execute_result",
          "data": {
            "text/plain": [
              "'Fernando Rodrigues de Santana'"
            ],
            "application/vnd.google.colaboratory.intrinsic+json": {
              "type": "string"
            }
          },
          "metadata": {},
          "execution_count": 167
        }
      ]
    },
    {
      "cell_type": "code",
      "source": [
        "user.age"
      ],
      "metadata": {
        "colab": {
          "base_uri": "https://localhost:8080/"
        },
        "id": "rZdH7uGEo2cP",
        "outputId": "a7a98c1c-1d80-44c0-adee-3bca415df5e8"
      },
      "execution_count": 168,
      "outputs": [
        {
          "output_type": "execute_result",
          "data": {
            "text/plain": [
              "20"
            ]
          },
          "metadata": {},
          "execution_count": 168
        }
      ]
    },
    {
      "cell_type": "code",
      "source": [
        "Session = sessionmaker(bind=engine)"
      ],
      "metadata": {
        "id": "dAmAgAS4o86t"
      },
      "execution_count": 169,
      "outputs": []
    },
    {
      "cell_type": "code",
      "source": [
        "Session"
      ],
      "metadata": {
        "colab": {
          "base_uri": "https://localhost:8080/"
        },
        "id": "Vw-yI9rIpHcB",
        "outputId": "f325ed9b-6fc0-482c-de9d-9ce0527a0da6"
      },
      "execution_count": 170,
      "outputs": [
        {
          "output_type": "execute_result",
          "data": {
            "text/plain": [
              "sessionmaker(class_='Session', bind=Engine(sqlite:///enterprise.db), autoflush=True, expire_on_commit=True)"
            ]
          },
          "metadata": {},
          "execution_count": 170
        }
      ]
    },
    {
      "cell_type": "code",
      "source": [
        "session = Session()"
      ],
      "metadata": {
        "id": "v2OZZ9J_pJfk"
      },
      "execution_count": 171,
      "outputs": []
    },
    {
      "cell_type": "code",
      "source": [
        "session.add(user)"
      ],
      "metadata": {
        "id": "GnMRuvAupL1N"
      },
      "execution_count": 172,
      "outputs": []
    },
    {
      "cell_type": "code",
      "source": [
        "session.commit()"
      ],
      "metadata": {
        "colab": {
          "base_uri": "https://localhost:8080/"
        },
        "id": "GqSyFICipSe9",
        "outputId": "ee3d2fb3-3650-4324-a4df-13ae9b45e748"
      },
      "execution_count": 173,
      "outputs": [
        {
          "output_type": "stream",
          "name": "stdout",
          "text": [
            "2023-07-25 02:13:19,627 INFO sqlalchemy.engine.Engine BEGIN (implicit)\n"
          ]
        },
        {
          "output_type": "stream",
          "name": "stderr",
          "text": [
            "INFO:sqlalchemy.engine.Engine:BEGIN (implicit)\n"
          ]
        },
        {
          "output_type": "stream",
          "name": "stdout",
          "text": [
            "2023-07-25 02:13:19,636 INFO sqlalchemy.engine.Engine INSERT INTO users (name, fullname, age) VALUES (?, ?, ?)\n"
          ]
        },
        {
          "output_type": "stream",
          "name": "stderr",
          "text": [
            "INFO:sqlalchemy.engine.Engine:INSERT INTO users (name, fullname, age) VALUES (?, ?, ?)\n"
          ]
        },
        {
          "output_type": "stream",
          "name": "stdout",
          "text": [
            "2023-07-25 02:13:19,641 INFO sqlalchemy.engine.Engine [generated in 0.00492s] ('Fernando', 'Fernando Rodrigues de Santana', 20)\n"
          ]
        },
        {
          "output_type": "stream",
          "name": "stderr",
          "text": [
            "INFO:sqlalchemy.engine.Engine:[generated in 0.00492s] ('Fernando', 'Fernando Rodrigues de Santana', 20)\n"
          ]
        },
        {
          "output_type": "stream",
          "name": "stdout",
          "text": [
            "2023-07-25 02:13:19,647 INFO sqlalchemy.engine.Engine COMMIT\n"
          ]
        },
        {
          "output_type": "stream",
          "name": "stderr",
          "text": [
            "INFO:sqlalchemy.engine.Engine:COMMIT\n"
          ]
        }
      ]
    },
    {
      "cell_type": "markdown",
      "source": [
        "### **Adicionando uma lista de Users**"
      ],
      "metadata": {
        "id": "7NbwTWLysfmF"
      }
    },
    {
      "cell_type": "code",
      "source": [
        "session.add_all([\n",
        "    User(name='Jair', fullname='Jair Messias Bolsonaro', age=22),\n",
        "    User(name='Luiz', fullname='Luiz Inácio Lula da Silva', age=13),\n",
        "    User(name='Cabo', fullname='Cabo Daociolo', age=45),\n",
        "    User(name='Luciano', fullname='Hang Véio da Havan', age=22),\n",
        "    User(name='Kim', fullname='Kim Kataguiri', age=24)\n",
        "])"
      ],
      "metadata": {
        "id": "TP_2aAyVpe6E"
      },
      "execution_count": 174,
      "outputs": []
    },
    {
      "cell_type": "code",
      "source": [
        "session.new"
      ],
      "metadata": {
        "colab": {
          "base_uri": "https://localhost:8080/"
        },
        "id": "200JrIdGqgPt",
        "outputId": "16ccc009-ea1b-4c6c-870c-b01778565a1d"
      },
      "execution_count": 175,
      "outputs": [
        {
          "output_type": "execute_result",
          "data": {
            "text/plain": [
              "IdentitySet([<User(name=Jair, fullname=Jair Messias Bolsonaro, age22)>, <User(name=Luiz, fullname=Luiz Inácio Lula da Silva, age13)>, <User(name=Cabo, fullname=Cabo Daociolo, age45)>, <User(name=Luciano, fullname=Hang Véio da Havan, age22)>, <User(name=Kim, fullname=Kim Kataguiri, age24)>])"
            ]
          },
          "metadata": {},
          "execution_count": 175
        }
      ]
    },
    {
      "cell_type": "code",
      "source": [
        "session.commit()"
      ],
      "metadata": {
        "colab": {
          "base_uri": "https://localhost:8080/"
        },
        "id": "1XdS2ppPrpvB",
        "outputId": "3af9f7ca-e209-4fb9-cb51-11df1c542eae"
      },
      "execution_count": 176,
      "outputs": [
        {
          "output_type": "stream",
          "name": "stdout",
          "text": [
            "2023-07-25 02:13:19,694 INFO sqlalchemy.engine.Engine BEGIN (implicit)\n"
          ]
        },
        {
          "output_type": "stream",
          "name": "stderr",
          "text": [
            "INFO:sqlalchemy.engine.Engine:BEGIN (implicit)\n"
          ]
        },
        {
          "output_type": "stream",
          "name": "stdout",
          "text": [
            "2023-07-25 02:13:19,702 INFO sqlalchemy.engine.Engine INSERT INTO users (name, fullname, age) VALUES (?, ?, ?) RETURNING id\n"
          ]
        },
        {
          "output_type": "stream",
          "name": "stderr",
          "text": [
            "INFO:sqlalchemy.engine.Engine:INSERT INTO users (name, fullname, age) VALUES (?, ?, ?) RETURNING id\n"
          ]
        },
        {
          "output_type": "stream",
          "name": "stdout",
          "text": [
            "2023-07-25 02:13:19,705 INFO sqlalchemy.engine.Engine [generated in 0.00024s (insertmanyvalues) 1/5 (ordered; batch not supported)] ('Jair', 'Jair Messias Bolsonaro', 22)\n"
          ]
        },
        {
          "output_type": "stream",
          "name": "stderr",
          "text": [
            "INFO:sqlalchemy.engine.Engine:[generated in 0.00024s (insertmanyvalues) 1/5 (ordered; batch not supported)] ('Jair', 'Jair Messias Bolsonaro', 22)\n"
          ]
        },
        {
          "output_type": "stream",
          "name": "stdout",
          "text": [
            "2023-07-25 02:13:19,708 INFO sqlalchemy.engine.Engine INSERT INTO users (name, fullname, age) VALUES (?, ?, ?) RETURNING id\n"
          ]
        },
        {
          "output_type": "stream",
          "name": "stderr",
          "text": [
            "INFO:sqlalchemy.engine.Engine:INSERT INTO users (name, fullname, age) VALUES (?, ?, ?) RETURNING id\n"
          ]
        },
        {
          "output_type": "stream",
          "name": "stdout",
          "text": [
            "2023-07-25 02:13:19,710 INFO sqlalchemy.engine.Engine [insertmanyvalues 2/5 (ordered; batch not supported)] ('Luiz', 'Luiz Inácio Lula da Silva', 13)\n"
          ]
        },
        {
          "output_type": "stream",
          "name": "stderr",
          "text": [
            "INFO:sqlalchemy.engine.Engine:[insertmanyvalues 2/5 (ordered; batch not supported)] ('Luiz', 'Luiz Inácio Lula da Silva', 13)\n"
          ]
        },
        {
          "output_type": "stream",
          "name": "stdout",
          "text": [
            "2023-07-25 02:13:19,712 INFO sqlalchemy.engine.Engine INSERT INTO users (name, fullname, age) VALUES (?, ?, ?) RETURNING id\n"
          ]
        },
        {
          "output_type": "stream",
          "name": "stderr",
          "text": [
            "INFO:sqlalchemy.engine.Engine:INSERT INTO users (name, fullname, age) VALUES (?, ?, ?) RETURNING id\n"
          ]
        },
        {
          "output_type": "stream",
          "name": "stdout",
          "text": [
            "2023-07-25 02:13:19,714 INFO sqlalchemy.engine.Engine [insertmanyvalues 3/5 (ordered; batch not supported)] ('Cabo', 'Cabo Daociolo', 45)\n"
          ]
        },
        {
          "output_type": "stream",
          "name": "stderr",
          "text": [
            "INFO:sqlalchemy.engine.Engine:[insertmanyvalues 3/5 (ordered; batch not supported)] ('Cabo', 'Cabo Daociolo', 45)\n"
          ]
        },
        {
          "output_type": "stream",
          "name": "stdout",
          "text": [
            "2023-07-25 02:13:19,716 INFO sqlalchemy.engine.Engine INSERT INTO users (name, fullname, age) VALUES (?, ?, ?) RETURNING id\n"
          ]
        },
        {
          "output_type": "stream",
          "name": "stderr",
          "text": [
            "INFO:sqlalchemy.engine.Engine:INSERT INTO users (name, fullname, age) VALUES (?, ?, ?) RETURNING id\n"
          ]
        },
        {
          "output_type": "stream",
          "name": "stdout",
          "text": [
            "2023-07-25 02:13:19,719 INFO sqlalchemy.engine.Engine [insertmanyvalues 4/5 (ordered; batch not supported)] ('Luciano', 'Hang Véio da Havan', 22)\n"
          ]
        },
        {
          "output_type": "stream",
          "name": "stderr",
          "text": [
            "INFO:sqlalchemy.engine.Engine:[insertmanyvalues 4/5 (ordered; batch not supported)] ('Luciano', 'Hang Véio da Havan', 22)\n"
          ]
        },
        {
          "output_type": "stream",
          "name": "stdout",
          "text": [
            "2023-07-25 02:13:19,721 INFO sqlalchemy.engine.Engine INSERT INTO users (name, fullname, age) VALUES (?, ?, ?) RETURNING id\n"
          ]
        },
        {
          "output_type": "stream",
          "name": "stderr",
          "text": [
            "INFO:sqlalchemy.engine.Engine:INSERT INTO users (name, fullname, age) VALUES (?, ?, ?) RETURNING id\n"
          ]
        },
        {
          "output_type": "stream",
          "name": "stdout",
          "text": [
            "2023-07-25 02:13:19,723 INFO sqlalchemy.engine.Engine [insertmanyvalues 5/5 (ordered; batch not supported)] ('Kim', 'Kim Kataguiri', 24)\n"
          ]
        },
        {
          "output_type": "stream",
          "name": "stderr",
          "text": [
            "INFO:sqlalchemy.engine.Engine:[insertmanyvalues 5/5 (ordered; batch not supported)] ('Kim', 'Kim Kataguiri', 24)\n"
          ]
        },
        {
          "output_type": "stream",
          "name": "stdout",
          "text": [
            "2023-07-25 02:13:19,726 INFO sqlalchemy.engine.Engine COMMIT\n"
          ]
        },
        {
          "output_type": "stream",
          "name": "stderr",
          "text": [
            "INFO:sqlalchemy.engine.Engine:COMMIT\n"
          ]
        }
      ]
    },
    {
      "cell_type": "markdown",
      "source": [
        "## **Consultando Dados**"
      ],
      "metadata": {
        "id": "G0g3uDABvHiv"
      }
    },
    {
      "cell_type": "code",
      "source": [
        "query_user = session.query(User).filter_by(name='Jair').first()"
      ],
      "metadata": {
        "colab": {
          "base_uri": "https://localhost:8080/"
        },
        "id": "CN8r_uLxvLrf",
        "outputId": "a71be8f2-7a68-40d4-e97b-81012b86b29f"
      },
      "execution_count": 177,
      "outputs": [
        {
          "output_type": "stream",
          "name": "stdout",
          "text": [
            "2023-07-25 02:13:19,751 INFO sqlalchemy.engine.Engine BEGIN (implicit)\n"
          ]
        },
        {
          "output_type": "stream",
          "name": "stderr",
          "text": [
            "INFO:sqlalchemy.engine.Engine:BEGIN (implicit)\n"
          ]
        },
        {
          "output_type": "stream",
          "name": "stdout",
          "text": [
            "2023-07-25 02:13:19,757 INFO sqlalchemy.engine.Engine SELECT users.id AS users_id, users.name AS users_name, users.fullname AS users_fullname, users.age AS users_age \n",
            "FROM users \n",
            "WHERE users.name = ?\n",
            " LIMIT ? OFFSET ?\n"
          ]
        },
        {
          "output_type": "stream",
          "name": "stderr",
          "text": [
            "INFO:sqlalchemy.engine.Engine:SELECT users.id AS users_id, users.name AS users_name, users.fullname AS users_fullname, users.age AS users_age \n",
            "FROM users \n",
            "WHERE users.name = ?\n",
            " LIMIT ? OFFSET ?\n"
          ]
        },
        {
          "output_type": "stream",
          "name": "stdout",
          "text": [
            "2023-07-25 02:13:19,760 INFO sqlalchemy.engine.Engine [generated in 0.00318s] ('Jair', 1, 0)\n"
          ]
        },
        {
          "output_type": "stream",
          "name": "stderr",
          "text": [
            "INFO:sqlalchemy.engine.Engine:[generated in 0.00318s] ('Jair', 1, 0)\n"
          ]
        }
      ]
    },
    {
      "cell_type": "code",
      "source": [
        "query_user.name"
      ],
      "metadata": {
        "colab": {
          "base_uri": "https://localhost:8080/",
          "height": 35
        },
        "id": "YDkzQz8evxtC",
        "outputId": "89afcd64-8b65-4c57-b8c6-e38a50963f10"
      },
      "execution_count": 178,
      "outputs": [
        {
          "output_type": "execute_result",
          "data": {
            "text/plain": [
              "'Jair'"
            ],
            "application/vnd.google.colaboratory.intrinsic+json": {
              "type": "string"
            }
          },
          "metadata": {},
          "execution_count": 178
        }
      ]
    },
    {
      "cell_type": "code",
      "source": [
        "query_user.fullname"
      ],
      "metadata": {
        "colab": {
          "base_uri": "https://localhost:8080/",
          "height": 35
        },
        "id": "vQeIRqwrv7AC",
        "outputId": "4e3ca785-20c2-4136-b361-678d9a82da0e"
      },
      "execution_count": 179,
      "outputs": [
        {
          "output_type": "execute_result",
          "data": {
            "text/plain": [
              "'Jair Messias Bolsonaro'"
            ],
            "application/vnd.google.colaboratory.intrinsic+json": {
              "type": "string"
            }
          },
          "metadata": {},
          "execution_count": 179
        }
      ]
    },
    {
      "cell_type": "code",
      "source": [
        "query_user.age"
      ],
      "metadata": {
        "colab": {
          "base_uri": "https://localhost:8080/"
        },
        "id": "KpA_z6HTv9Oc",
        "outputId": "2814a82a-29bc-4de1-ce83-b6149ec1d9a6"
      },
      "execution_count": 180,
      "outputs": [
        {
          "output_type": "execute_result",
          "data": {
            "text/plain": [
              "22"
            ]
          },
          "metadata": {},
          "execution_count": 180
        }
      ]
    },
    {
      "cell_type": "code",
      "source": [
        "for instance in session.query(User).order_by(User.id):\n",
        "  print(instance.name, instance.fullname)"
      ],
      "metadata": {
        "colab": {
          "base_uri": "https://localhost:8080/"
        },
        "id": "aoSRP6UkwB-w",
        "outputId": "23df85c6-5bec-4307-82c2-0fe14e9f57d6"
      },
      "execution_count": 181,
      "outputs": [
        {
          "output_type": "stream",
          "name": "stdout",
          "text": [
            "2023-07-25 02:13:19,808 INFO sqlalchemy.engine.Engine SELECT users.id AS users_id, users.name AS users_name, users.fullname AS users_fullname, users.age AS users_age \n",
            "FROM users ORDER BY users.id\n"
          ]
        },
        {
          "output_type": "stream",
          "name": "stderr",
          "text": [
            "INFO:sqlalchemy.engine.Engine:SELECT users.id AS users_id, users.name AS users_name, users.fullname AS users_fullname, users.age AS users_age \n",
            "FROM users ORDER BY users.id\n"
          ]
        },
        {
          "output_type": "stream",
          "name": "stdout",
          "text": [
            "2023-07-25 02:13:19,816 INFO sqlalchemy.engine.Engine [generated in 0.00822s] ()\n"
          ]
        },
        {
          "output_type": "stream",
          "name": "stderr",
          "text": [
            "INFO:sqlalchemy.engine.Engine:[generated in 0.00822s] ()\n"
          ]
        },
        {
          "output_type": "stream",
          "name": "stdout",
          "text": [
            "Fernando Fernando Rodrigues de Santana\n",
            "Jair Jair Messias Bolsonaro\n",
            "Luiz Luiz Inácio Lula da Silva\n",
            "Luciano Hang Véio da Havan\n",
            "Kim Kim Kataguiri\n",
            "Fernando Fernando Rodrigues de Santana\n",
            "Jair Jair Messias Bolsonaro\n",
            "Luiz Luiz Inácio Lula da Silva\n",
            "Cabo Cabo Daociolo\n",
            "Luciano Hang Véio da Havan\n",
            "Kim Kim Kataguiri\n",
            "Fernando Fernando Rodrigues de Santana\n",
            "Jair Jair Messias Bolsonaro\n",
            "Luiz Luiz Inácio Lula da Silva\n",
            "Cabo Cabo Daociolo\n",
            "Luciano Hang Véio da Havan\n",
            "Kim Kim Kataguiri\n",
            "Fernando Fernando Rodrigues de Santana\n",
            "Jair Jair Messias Bolsonaro\n",
            "Luiz Luiz Inácio Lula da Silva\n",
            "Cabo Cabo Daociolo\n",
            "Luciano Hang Véio da Havan\n",
            "Kim Kim Kataguiri\n",
            "Fernando Fernando Rodrigues\n",
            "Jair Jair Messias Bolsonaro\n",
            "Luiz Luiz Inácio Lula da Silva\n",
            "Cabo Cabo Daociolo\n",
            "Luciano Hang Véio da Havan\n",
            "Kim Kim Kataguiri\n",
            "Fernando Fernando Rodrigues de Santana\n",
            "Jair Jair Messias Bolsonaro\n",
            "Luiz Luiz Inácio Lula da Silva\n",
            "Cabo Cabo Daociolo\n",
            "Luciano Hang Véio da Havan\n",
            "Kim Kim Kataguiri\n"
          ]
        }
      ]
    },
    {
      "cell_type": "code",
      "source": [
        "for info in session.query(User.name, User.age).filter_by(name='Luiz'):\n",
        "    print(info)"
      ],
      "metadata": {
        "colab": {
          "base_uri": "https://localhost:8080/"
        },
        "id": "x0OyQKb-xBtn",
        "outputId": "11eaaf4a-58ce-4206-df34-da550161a3fe"
      },
      "execution_count": 182,
      "outputs": [
        {
          "output_type": "stream",
          "name": "stdout",
          "text": [
            "2023-07-25 02:13:19,832 INFO sqlalchemy.engine.Engine SELECT users.name AS users_name, users.age AS users_age \n",
            "FROM users \n",
            "WHERE users.name = ?\n"
          ]
        },
        {
          "output_type": "stream",
          "name": "stderr",
          "text": [
            "INFO:sqlalchemy.engine.Engine:SELECT users.name AS users_name, users.age AS users_age \n",
            "FROM users \n",
            "WHERE users.name = ?\n"
          ]
        },
        {
          "output_type": "stream",
          "name": "stdout",
          "text": [
            "2023-07-25 02:13:19,836 INFO sqlalchemy.engine.Engine [generated in 0.00384s] ('Luiz',)\n"
          ]
        },
        {
          "output_type": "stream",
          "name": "stderr",
          "text": [
            "INFO:sqlalchemy.engine.Engine:[generated in 0.00384s] ('Luiz',)\n"
          ]
        },
        {
          "output_type": "stream",
          "name": "stdout",
          "text": [
            "('Luiz', 13)\n",
            "('Luiz', 13)\n",
            "('Luiz', 13)\n",
            "('Luiz', 13)\n",
            "('Luiz', 13)\n",
            "('Luiz', 13)\n"
          ]
        }
      ]
    },
    {
      "cell_type": "markdown",
      "source": [
        "## **Modificando Dados**"
      ],
      "metadata": {
        "id": "cKTkKnL8yLEr"
      }
    },
    {
      "cell_type": "code",
      "source": [
        "user.fullname"
      ],
      "metadata": {
        "colab": {
          "base_uri": "https://localhost:8080/",
          "height": 35
        },
        "id": "n1iFMa_TyQhm",
        "outputId": "dc059dd1-85ce-450e-ec91-bdc546458c02"
      },
      "execution_count": 183,
      "outputs": [
        {
          "output_type": "execute_result",
          "data": {
            "text/plain": [
              "'Fernando Rodrigues de Santana'"
            ],
            "application/vnd.google.colaboratory.intrinsic+json": {
              "type": "string"
            }
          },
          "metadata": {},
          "execution_count": 183
        }
      ]
    },
    {
      "cell_type": "code",
      "source": [
        "user.fullname = 'Fernando Rodrigues'"
      ],
      "metadata": {
        "id": "QPvTccPIy1nn"
      },
      "execution_count": 184,
      "outputs": []
    },
    {
      "cell_type": "code",
      "source": [
        "user"
      ],
      "metadata": {
        "colab": {
          "base_uri": "https://localhost:8080/"
        },
        "id": "w2lMcIqay40i",
        "outputId": "93ab7bf2-8bba-43de-cfb5-97b6f220eac6"
      },
      "execution_count": 185,
      "outputs": [
        {
          "output_type": "execute_result",
          "data": {
            "text/plain": [
              "<User(name=Fernando, fullname=Fernando Rodrigues, age20)>"
            ]
          },
          "metadata": {},
          "execution_count": 185
        }
      ]
    },
    {
      "cell_type": "code",
      "source": [
        "session.dirty\n",
        "# histórico de dados alterados"
      ],
      "metadata": {
        "colab": {
          "base_uri": "https://localhost:8080/"
        },
        "id": "-cmNFohSy7Ud",
        "outputId": "bf9879ea-9c0d-424c-81f7-37a65cccf42d"
      },
      "execution_count": 186,
      "outputs": [
        {
          "output_type": "execute_result",
          "data": {
            "text/plain": [
              "IdentitySet([<User(name=Fernando, fullname=Fernando Rodrigues, age20)>])"
            ]
          },
          "metadata": {},
          "execution_count": 186
        }
      ]
    },
    {
      "cell_type": "code",
      "source": [
        "session.commit()"
      ],
      "metadata": {
        "colab": {
          "base_uri": "https://localhost:8080/"
        },
        "id": "2BqD72hLzH0d",
        "outputId": "6c3be110-d1f2-49e9-dbf5-7f9733534275"
      },
      "execution_count": 187,
      "outputs": [
        {
          "output_type": "stream",
          "name": "stdout",
          "text": [
            "2023-07-25 02:13:19,903 INFO sqlalchemy.engine.Engine UPDATE users SET fullname=? WHERE users.id = ?\n"
          ]
        },
        {
          "output_type": "stream",
          "name": "stderr",
          "text": [
            "INFO:sqlalchemy.engine.Engine:UPDATE users SET fullname=? WHERE users.id = ?\n"
          ]
        },
        {
          "output_type": "stream",
          "name": "stdout",
          "text": [
            "2023-07-25 02:13:19,907 INFO sqlalchemy.engine.Engine [generated in 0.00397s] ('Fernando Rodrigues', 31)\n"
          ]
        },
        {
          "output_type": "stream",
          "name": "stderr",
          "text": [
            "INFO:sqlalchemy.engine.Engine:[generated in 0.00397s] ('Fernando Rodrigues', 31)\n"
          ]
        },
        {
          "output_type": "stream",
          "name": "stdout",
          "text": [
            "2023-07-25 02:13:19,910 INFO sqlalchemy.engine.Engine COMMIT\n"
          ]
        },
        {
          "output_type": "stream",
          "name": "stderr",
          "text": [
            "INFO:sqlalchemy.engine.Engine:COMMIT\n"
          ]
        }
      ]
    },
    {
      "cell_type": "markdown",
      "source": [
        "## **Deletando objetos**"
      ],
      "metadata": {
        "id": "9IquUHjlzwjA"
      }
    },
    {
      "cell_type": "code",
      "source": [
        "user = session.query(User).filter_by(name='Cabo').first()"
      ],
      "metadata": {
        "colab": {
          "base_uri": "https://localhost:8080/"
        },
        "id": "Ag5_ejPjz162",
        "outputId": "0ed4de8e-1c95-4110-e5d4-416de215d5f4"
      },
      "execution_count": 188,
      "outputs": [
        {
          "output_type": "stream",
          "name": "stdout",
          "text": [
            "2023-07-25 02:13:19,932 INFO sqlalchemy.engine.Engine BEGIN (implicit)\n"
          ]
        },
        {
          "output_type": "stream",
          "name": "stderr",
          "text": [
            "INFO:sqlalchemy.engine.Engine:BEGIN (implicit)\n"
          ]
        },
        {
          "output_type": "stream",
          "name": "stdout",
          "text": [
            "2023-07-25 02:13:19,936 INFO sqlalchemy.engine.Engine SELECT users.id AS users_id, users.name AS users_name, users.fullname AS users_fullname, users.age AS users_age \n",
            "FROM users \n",
            "WHERE users.name = ?\n",
            " LIMIT ? OFFSET ?\n"
          ]
        },
        {
          "output_type": "stream",
          "name": "stderr",
          "text": [
            "INFO:sqlalchemy.engine.Engine:SELECT users.id AS users_id, users.name AS users_name, users.fullname AS users_fullname, users.age AS users_age \n",
            "FROM users \n",
            "WHERE users.name = ?\n",
            " LIMIT ? OFFSET ?\n"
          ]
        },
        {
          "output_type": "stream",
          "name": "stdout",
          "text": [
            "2023-07-25 02:13:19,938 INFO sqlalchemy.engine.Engine [cached since 0.1816s ago] ('Cabo', 1, 0)\n"
          ]
        },
        {
          "output_type": "stream",
          "name": "stderr",
          "text": [
            "INFO:sqlalchemy.engine.Engine:[cached since 0.1816s ago] ('Cabo', 1, 0)\n"
          ]
        }
      ]
    },
    {
      "cell_type": "code",
      "source": [
        "user"
      ],
      "metadata": {
        "colab": {
          "base_uri": "https://localhost:8080/"
        },
        "id": "HZhp5zfAz--0",
        "outputId": "e389be84-4240-4e14-a361-78cc22f3c112"
      },
      "execution_count": 189,
      "outputs": [
        {
          "output_type": "execute_result",
          "data": {
            "text/plain": [
              "<User(name=Cabo, fullname=Cabo Daociolo, age45)>"
            ]
          },
          "metadata": {},
          "execution_count": 189
        }
      ]
    },
    {
      "cell_type": "code",
      "source": [
        "session.delete(user)"
      ],
      "metadata": {
        "id": "kTokz-_T0Ag9"
      },
      "execution_count": 190,
      "outputs": []
    },
    {
      "cell_type": "code",
      "source": [
        "session.commit()"
      ],
      "metadata": {
        "colab": {
          "base_uri": "https://localhost:8080/"
        },
        "id": "ajIi0wbj0EmO",
        "outputId": "ffa91571-0465-438e-e5eb-27f34e8cc4e3"
      },
      "execution_count": 191,
      "outputs": [
        {
          "output_type": "stream",
          "name": "stdout",
          "text": [
            "2023-07-25 02:13:19,967 INFO sqlalchemy.engine.Engine DELETE FROM users WHERE users.id = ?\n"
          ]
        },
        {
          "output_type": "stream",
          "name": "stderr",
          "text": [
            "INFO:sqlalchemy.engine.Engine:DELETE FROM users WHERE users.id = ?\n"
          ]
        },
        {
          "output_type": "stream",
          "name": "stdout",
          "text": [
            "2023-07-25 02:13:19,971 INFO sqlalchemy.engine.Engine [generated in 0.00403s] (10,)\n"
          ]
        },
        {
          "output_type": "stream",
          "name": "stderr",
          "text": [
            "INFO:sqlalchemy.engine.Engine:[generated in 0.00403s] (10,)\n"
          ]
        },
        {
          "output_type": "stream",
          "name": "stdout",
          "text": [
            "2023-07-25 02:13:19,975 INFO sqlalchemy.engine.Engine COMMIT\n"
          ]
        },
        {
          "output_type": "stream",
          "name": "stderr",
          "text": [
            "INFO:sqlalchemy.engine.Engine:COMMIT\n"
          ]
        }
      ]
    },
    {
      "cell_type": "markdown",
      "source": [
        "## **Contando dados**"
      ],
      "metadata": {
        "id": "43tOaRV30tG8"
      }
    },
    {
      "cell_type": "code",
      "source": [
        "session.query(User).filter_by(name='Kim').count()\n",
        "# realiza a contagem da quantidade de dados com nome 'Kim'"
      ],
      "metadata": {
        "colab": {
          "base_uri": "https://localhost:8080/"
        },
        "id": "zObMFd1h0R1n",
        "outputId": "e71aaf27-8f75-40b1-fbbc-b096f462fee4"
      },
      "execution_count": 192,
      "outputs": [
        {
          "output_type": "stream",
          "name": "stdout",
          "text": [
            "2023-07-25 02:13:19,998 INFO sqlalchemy.engine.Engine BEGIN (implicit)\n"
          ]
        },
        {
          "output_type": "stream",
          "name": "stderr",
          "text": [
            "INFO:sqlalchemy.engine.Engine:BEGIN (implicit)\n"
          ]
        },
        {
          "output_type": "stream",
          "name": "stdout",
          "text": [
            "2023-07-25 02:13:20,006 INFO sqlalchemy.engine.Engine SELECT count(*) AS count_1 \n",
            "FROM (SELECT users.id AS users_id, users.name AS users_name, users.fullname AS users_fullname, users.age AS users_age \n",
            "FROM users \n",
            "WHERE users.name = ?) AS anon_1\n"
          ]
        },
        {
          "output_type": "stream",
          "name": "stderr",
          "text": [
            "INFO:sqlalchemy.engine.Engine:SELECT count(*) AS count_1 \n",
            "FROM (SELECT users.id AS users_id, users.name AS users_name, users.fullname AS users_fullname, users.age AS users_age \n",
            "FROM users \n",
            "WHERE users.name = ?) AS anon_1\n"
          ]
        },
        {
          "output_type": "stream",
          "name": "stdout",
          "text": [
            "2023-07-25 02:13:20,012 INFO sqlalchemy.engine.Engine [generated in 0.00643s] ('Kim',)\n"
          ]
        },
        {
          "output_type": "stream",
          "name": "stderr",
          "text": [
            "INFO:sqlalchemy.engine.Engine:[generated in 0.00643s] ('Kim',)\n"
          ]
        },
        {
          "output_type": "execute_result",
          "data": {
            "text/plain": [
              "6"
            ]
          },
          "metadata": {},
          "execution_count": 192
        }
      ]
    }
  ]
}